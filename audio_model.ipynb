{
 "cells": [
  {
   "cell_type": "markdown",
   "id": "1ed17808-4569-4b57-ae14-7c2d8569f1dc",
   "metadata": {},
   "source": [
    "Preprocessing"
   ]
  },
  {
   "cell_type": "markdown",
   "id": "a2187251",
   "metadata": {},
   "source": [
    "Exploratory"
   ]
  },
  {
   "cell_type": "code",
   "execution_count": 39,
   "id": "93b96f95-ff59-4a4c-a254-c5cd14133e2b",
   "metadata": {},
   "outputs": [],
   "source": [
    "from pathlib import Path\n",
    "import pandas as pd"
   ]
  },
  {
   "cell_type": "code",
   "execution_count": 40,
   "id": "7cce27c6-af88-4757-919d-c6a5faf344ed",
   "metadata": {
    "scrolled": true
   },
   "outputs": [
    {
     "data": {
      "text/html": [
       "<div>\n",
       "<style scoped>\n",
       "    .dataframe tbody tr th:only-of-type {\n",
       "        vertical-align: middle;\n",
       "    }\n",
       "\n",
       "    .dataframe tbody tr th {\n",
       "        vertical-align: top;\n",
       "    }\n",
       "\n",
       "    .dataframe thead th {\n",
       "        text-align: right;\n",
       "    }\n",
       "</style>\n",
       "<table border=\"1\" class=\"dataframe\">\n",
       "  <thead>\n",
       "    <tr style=\"text-align: right;\">\n",
       "      <th></th>\n",
       "      <th>id</th>\n",
       "      <th>Podcast_Name</th>\n",
       "      <th>Episode_Title</th>\n",
       "      <th>Episode_Length_minutes</th>\n",
       "      <th>Genre</th>\n",
       "      <th>Host_Popularity_percentage</th>\n",
       "      <th>Publication_Day</th>\n",
       "      <th>Publication_Time</th>\n",
       "      <th>Guest_Popularity_percentage</th>\n",
       "      <th>Number_of_Ads</th>\n",
       "      <th>Episode_Sentiment</th>\n",
       "      <th>Listening_Time_minutes</th>\n",
       "    </tr>\n",
       "  </thead>\n",
       "  <tbody>\n",
       "    <tr>\n",
       "      <th>0</th>\n",
       "      <td>0</td>\n",
       "      <td>Mystery Matters</td>\n",
       "      <td>Episode 98</td>\n",
       "      <td>NaN</td>\n",
       "      <td>True Crime</td>\n",
       "      <td>74.81</td>\n",
       "      <td>Thursday</td>\n",
       "      <td>Night</td>\n",
       "      <td>NaN</td>\n",
       "      <td>0.0</td>\n",
       "      <td>Positive</td>\n",
       "      <td>31.41998</td>\n",
       "    </tr>\n",
       "    <tr>\n",
       "      <th>1</th>\n",
       "      <td>1</td>\n",
       "      <td>Joke Junction</td>\n",
       "      <td>Episode 26</td>\n",
       "      <td>119.80</td>\n",
       "      <td>Comedy</td>\n",
       "      <td>66.95</td>\n",
       "      <td>Saturday</td>\n",
       "      <td>Afternoon</td>\n",
       "      <td>75.95</td>\n",
       "      <td>2.0</td>\n",
       "      <td>Negative</td>\n",
       "      <td>88.01241</td>\n",
       "    </tr>\n",
       "    <tr>\n",
       "      <th>2</th>\n",
       "      <td>2</td>\n",
       "      <td>Study Sessions</td>\n",
       "      <td>Episode 16</td>\n",
       "      <td>73.90</td>\n",
       "      <td>Education</td>\n",
       "      <td>69.97</td>\n",
       "      <td>Tuesday</td>\n",
       "      <td>Evening</td>\n",
       "      <td>8.97</td>\n",
       "      <td>0.0</td>\n",
       "      <td>Negative</td>\n",
       "      <td>44.92531</td>\n",
       "    </tr>\n",
       "    <tr>\n",
       "      <th>3</th>\n",
       "      <td>3</td>\n",
       "      <td>Digital Digest</td>\n",
       "      <td>Episode 45</td>\n",
       "      <td>67.17</td>\n",
       "      <td>Technology</td>\n",
       "      <td>57.22</td>\n",
       "      <td>Monday</td>\n",
       "      <td>Morning</td>\n",
       "      <td>78.70</td>\n",
       "      <td>2.0</td>\n",
       "      <td>Positive</td>\n",
       "      <td>46.27824</td>\n",
       "    </tr>\n",
       "    <tr>\n",
       "      <th>4</th>\n",
       "      <td>4</td>\n",
       "      <td>Mind &amp; Body</td>\n",
       "      <td>Episode 86</td>\n",
       "      <td>110.51</td>\n",
       "      <td>Health</td>\n",
       "      <td>80.07</td>\n",
       "      <td>Monday</td>\n",
       "      <td>Afternoon</td>\n",
       "      <td>58.68</td>\n",
       "      <td>3.0</td>\n",
       "      <td>Neutral</td>\n",
       "      <td>75.61031</td>\n",
       "    </tr>\n",
       "  </tbody>\n",
       "</table>\n",
       "</div>"
      ],
      "text/plain": [
       "   id     Podcast_Name Episode_Title  Episode_Length_minutes       Genre  \\\n",
       "0   0  Mystery Matters    Episode 98                     NaN  True Crime   \n",
       "1   1    Joke Junction    Episode 26                  119.80      Comedy   \n",
       "2   2   Study Sessions    Episode 16                   73.90   Education   \n",
       "3   3   Digital Digest    Episode 45                   67.17  Technology   \n",
       "4   4      Mind & Body    Episode 86                  110.51      Health   \n",
       "\n",
       "   Host_Popularity_percentage Publication_Day Publication_Time  \\\n",
       "0                       74.81        Thursday            Night   \n",
       "1                       66.95        Saturday        Afternoon   \n",
       "2                       69.97         Tuesday          Evening   \n",
       "3                       57.22          Monday          Morning   \n",
       "4                       80.07          Monday        Afternoon   \n",
       "\n",
       "   Guest_Popularity_percentage  Number_of_Ads Episode_Sentiment  \\\n",
       "0                          NaN            0.0          Positive   \n",
       "1                        75.95            2.0          Negative   \n",
       "2                         8.97            0.0          Negative   \n",
       "3                        78.70            2.0          Positive   \n",
       "4                        58.68            3.0           Neutral   \n",
       "\n",
       "   Listening_Time_minutes  \n",
       "0                31.41998  \n",
       "1                88.01241  \n",
       "2                44.92531  \n",
       "3                46.27824  \n",
       "4                75.61031  "
      ]
     },
     "execution_count": 40,
     "metadata": {},
     "output_type": "execute_result"
    }
   ],
   "source": [
    "train = pd.read_csv(\"data/train.csv\")\n",
    "test = pd.read_csv(\"data/test.csv\")\n",
    "train.head()"
   ]
  },
  {
   "cell_type": "code",
   "execution_count": 41,
   "id": "609c1ca7-0f2c-415d-9ccb-b99308fbf340",
   "metadata": {},
   "outputs": [
    {
     "name": "stdout",
     "output_type": "stream",
     "text": [
      "<class 'pandas.core.frame.DataFrame'>\n",
      "RangeIndex: 750000 entries, 0 to 749999\n",
      "Data columns (total 12 columns):\n",
      " #   Column                       Non-Null Count   Dtype  \n",
      "---  ------                       --------------   -----  \n",
      " 0   id                           750000 non-null  int64  \n",
      " 1   Podcast_Name                 750000 non-null  object \n",
      " 2   Episode_Title                750000 non-null  object \n",
      " 3   Episode_Length_minutes       662907 non-null  float64\n",
      " 4   Genre                        750000 non-null  object \n",
      " 5   Host_Popularity_percentage   750000 non-null  float64\n",
      " 6   Publication_Day              750000 non-null  object \n",
      " 7   Publication_Time             750000 non-null  object \n",
      " 8   Guest_Popularity_percentage  603970 non-null  float64\n",
      " 9   Number_of_Ads                749999 non-null  float64\n",
      " 10  Episode_Sentiment            750000 non-null  object \n",
      " 11  Listening_Time_minutes       750000 non-null  float64\n",
      "dtypes: float64(5), int64(1), object(6)\n",
      "memory usage: 68.7+ MB\n"
     ]
    }
   ],
   "source": [
    "train.info()"
   ]
  },
  {
   "cell_type": "markdown",
   "id": "3ccc7d5d",
   "metadata": {},
   "source": [
    "Problems with missing values are related with:\n",
    "- Episode_Length_minutes\n",
    "- Guest_Popularity_percentage\n",
    "- Number_of_Ads"
   ]
  },
  {
   "cell_type": "code",
   "execution_count": 42,
   "id": "5879b3d3-a6e0-4486-b418-0ed903acc43a",
   "metadata": {},
   "outputs": [
    {
     "name": "stdout",
     "output_type": "stream",
     "text": [
      "check 233124 > 210952 => check passed\n"
     ]
    }
   ],
   "source": [
    "null_rows_idx = train.isnull().any(axis=1)\n",
    "rows_with_missing_values_count = len(train.loc[null_rows_idx])\n",
    "empty_values = 750000 - train['Episode_Length_minutes'].count() + 750000 - train['Guest_Popularity_percentage'].count() + 1\n",
    "print(f\"check {empty_values} > {rows_with_missing_values_count} => check {'passed' if empty_values >= rows_with_missing_values_count else 'not passed'}\")\n"
   ]
  },
  {
   "cell_type": "markdown",
   "id": "a6b40974",
   "metadata": {},
   "source": [
    "We already know about missing values, we will get back to them, once important unique value check is carried out."
   ]
  },
  {
   "cell_type": "code",
   "execution_count": 43,
   "id": "5b49dfc4",
   "metadata": {},
   "outputs": [
    {
     "data": {
      "text/plain": [
       "id                             750000\n",
       "Podcast_Name                       48\n",
       "Episode_Title                     100\n",
       "Episode_Length_minutes          12268\n",
       "Genre                              10\n",
       "Host_Popularity_percentage       8038\n",
       "Publication_Day                     7\n",
       "Publication_Time                    4\n",
       "Guest_Popularity_percentage     10019\n",
       "Number_of_Ads                      12\n",
       "Episode_Sentiment                   3\n",
       "Listening_Time_minutes          42807\n",
       "dtype: int64"
      ]
     },
     "execution_count": 43,
     "metadata": {},
     "output_type": "execute_result"
    }
   ],
   "source": [
    "train.nunique()"
   ]
  },
  {
   "cell_type": "code",
   "execution_count": 44,
   "id": "28afea9c",
   "metadata": {},
   "outputs": [
    {
     "name": "stdout",
     "output_type": "stream",
     "text": [
      "Episode_Length_minutes min: 0.0 , max: 325.24\n",
      "Host_Popularity_percentage min: 1.3 , max: 119.46\n",
      "Guest_Popularity_percentage min: 0.0 , max: 119.91\n",
      "Number_of_Ads min: 0.0 , max: 103.91\n",
      "Listening_Time_minutes min: 0.0 , max: 119.97\n",
      "\n",
      "\n",
      "['Mystery Matters', 'Joke Junction', 'Study Sessions', 'Digital Digest', 'Mind & Body', 'Fitness First', 'Criminal Minds', 'News Roundup', 'Daily Digest', 'Music Matters', 'Sports Central', 'Melody Mix', 'Game Day', 'Gadget Geek', 'Global News', 'Tech Talks', 'Sport Spot', 'Funny Folks', 'Sports Weekly', 'Business Briefs', 'Tech Trends', 'Innovators', 'Health Hour', 'Comedy Corner', 'Sound Waves', 'Brain Boost', \"Athlete's Arena\", 'Wellness Wave', 'Style Guide', 'World Watch', 'Humor Hub', 'Money Matters', 'Healthy Living', 'Home & Living', 'Educational Nuggets', 'Market Masters', 'Learning Lab', 'Lifestyle Lounge', 'Crime Chronicles', 'Detective Diaries', 'Life Lessons', 'Current Affairs', 'Finance Focus', 'Laugh Line', 'True Crime Stories', 'Business Insights', 'Fashion Forward', 'Tune Time']\n",
      "['Episode 98', 'Episode 26', 'Episode 16', 'Episode 45', 'Episode 86', 'Episode 19', 'Episode 47', 'Episode 44', 'Episode 32', 'Episode 81', 'Episode 66', 'Episode 62', 'Episode 76', 'Episode 37', 'Episode 20', 'Episode 82', 'Episode 72', 'Episode 61', 'Episode 100', 'Episode 54', 'Episode 17', 'Episode 36', 'Episode 97', 'Episode 27', 'Episode 31', 'Episode 88', 'Episode 38', 'Episode 92', 'Episode 74', 'Episode 30', 'Episode 63', 'Episode 67', 'Episode 77', 'Episode 4', 'Episode 93', 'Episode 24', 'Episode 1', 'Episode 2', 'Episode 25', 'Episode 56', 'Episode 75', 'Episode 12', 'Episode 21', 'Episode 6', 'Episode 85', 'Episode 23', 'Episode 33', 'Episode 7', 'Episode 53', 'Episode 15', 'Episode 43', 'Episode 71', 'Episode 69', 'Episode 13', 'Episode 89', 'Episode 3', 'Episode 64', 'Episode 73', 'Episode 79', 'Episode 94', 'Episode 80', 'Episode 42', 'Episode 10', 'Episode 48', 'Episode 96', 'Episode 40', 'Episode 49', 'Episode 9', 'Episode 50', 'Episode 78', 'Episode 84', 'Episode 87', 'Episode 58', 'Episode 57', 'Episode 59', 'Episode 39', 'Episode 46', 'Episode 91', 'Episode 35', 'Episode 8', 'Episode 90', 'Episode 5', 'Episode 65', 'Episode 11', 'Episode 51', 'Episode 99', 'Episode 14', 'Episode 41', 'Episode 18', 'Episode 95', 'Episode 83', 'Episode 55', 'Episode 29', 'Episode 68', 'Episode 34', 'Episode 22', 'Episode 60', 'Episode 52', 'Episode 28', 'Episode 70']\n",
      "['True Crime', 'Comedy', 'Education', 'Technology', 'Health', 'News', 'Music', 'Sports', 'Business', 'Lifestyle']\n",
      "['Thursday', 'Saturday', 'Tuesday', 'Monday', 'Sunday', 'Wednesday', 'Friday']\n",
      "['Night', 'Afternoon', 'Evening', 'Morning']\n",
      "['Positive', 'Negative', 'Neutral']\n"
     ]
    }
   ],
   "source": [
    "float64_columns = [\"Episode_Length_minutes\", \"Host_Popularity_percentage\",\n",
    "                    \"Guest_Popularity_percentage\", \"Number_of_Ads\", \"Listening_Time_minutes\"]\n",
    "\n",
    "categorical_columns = [\"Podcast_Name\", \"Episode_Title\", \"Genre\", \"Publication_Day\", \"Publication_Time\", \"Episode_Sentiment\"]\n",
    "\n",
    "for col in float64_columns:\n",
    "    unique_values = train[col].dropna().unique().tolist()\n",
    "    print(f\"{col} min: {min(unique_values)} , max: {max(unique_values)}\")\n",
    "\n",
    "print(\"\\n\")\n",
    "\n",
    "for col in categorical_columns:\n",
    "    unique_values = train[col].dropna().unique().tolist()\n",
    "    print(unique_values)\n"
   ]
  },
  {
   "cell_type": "markdown",
   "id": "9b8f3d47",
   "metadata": {},
   "source": [
    "As long as nothing distrubing can be observed regarding categorical columns, Number_of_Ads should contain only int values. Moreover problems list as follows:\n",
    "- Episode_Length_minutes display conserning 325.24 minutes value as the highest possible and 0.0 as the lowest. \n",
    "- Guest_Popularity_percentage display conserning 0.0 as the lowest values (oposing to Host_Popularity_percentage min: 1.3 value),\n",
    "this might indicate missing value. Max value is 119.91 - over 100% which might be alright, will see about predictions.\n",
    "- Host_Popularity_percentage max value is 119.46 is over 100% again, might be ok.\n",
    "- Listening_Time_minutes min: 0.0 might be ok but max: 119.97 should match (or at least be in close neighbourhood) 325.24. This observation suggests that 325.24 minutes might in fact be unrealistic, since not even one person watched the show entirely (unlikely considering rich 750k records database).\n"
   ]
  },
  {
   "cell_type": "markdown",
   "id": "a47d21bc",
   "metadata": {},
   "source": [
    "Summarizing initial analysis:\n",
    "- there are 210952 records with missing values, must be handled.\n",
    "- Episode_Length_minutes, Guest_Popularity_percentage have min values of 0.0, must be handled.\n",
    "- Number_of_Ads, contain not integer values, must be handled (will change characteristic from float64 to categorical).\n",
    "- Host_Popularity_percentage, Guest_Popularity_percentage might need standarization from [0.0, 119-ish]% interval to [0.0, 100.0]% interval, handling optional\n",
    "\n",
    "All of observations above might be great milestone checkpoints. Additionally:\n",
    "- Pandas DataFrame has .hist() method, which returns informations about variables' distributions, could be usefull in outlier handling (especially the most remote decile groups)."
   ]
  },
  {
   "cell_type": "markdown",
   "id": "da123cc6",
   "metadata": {},
   "source": [
    "Preprocessing - Imputation and Exploratory Part problems solutions"
   ]
  },
  {
   "cell_type": "code",
   "execution_count": 45,
   "id": "214f7473",
   "metadata": {},
   "outputs": [
    {
     "name": "stdout",
     "output_type": "stream",
     "text": [
      "Handling\n"
     ]
    }
   ],
   "source": [
    "print(\"Handling\")"
   ]
  }
 ],
 "metadata": {
  "kernelspec": {
   "display_name": "Python (wt_model)",
   "language": "python",
   "name": "wt_model"
  },
  "language_info": {
   "codemirror_mode": {
    "name": "ipython",
    "version": 3
   },
   "file_extension": ".py",
   "mimetype": "text/x-python",
   "name": "python",
   "nbconvert_exporter": "python",
   "pygments_lexer": "ipython3",
   "version": "3.11.13"
  }
 },
 "nbformat": 4,
 "nbformat_minor": 5
}
